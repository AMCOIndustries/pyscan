{
 "cells": [
  {
   "cell_type": "code",
   "execution_count": 1,
   "metadata": {
    "tags": []
   },
   "outputs": [
    {
     "name": "stdout",
     "output_type": "stream",
     "text": [
      "Could not load Keysight SD1\n",
      "Could not load Keysight SD1\n",
      "Basler Camera software not found, BaserCamera not loaded\n",
      "Helios Camera not installed\n",
      "msl not installed, Thorlabs BSC203 driver not loaded\n",
      "seabreeze module not found, Ocean Optics not imported\n",
      "Failed to load spinapi library.\n",
      "spinapi is not installed, PulseBlaster driver not loaded.\n",
      "Thorlabs Kinesis not found, ThorlabsBSC203 not loaded\n",
      "Thorlabs Kinesis not found, ThorlabsBSC303 not loaded\n",
      "Thorlabs Kinesis not found, ThorlabsMFF101 not loaded\n"
     ]
    }
   ],
   "source": [
    "# DEPRICATED\n",
    "\n",
    "%load_ext autoreload\n",
    "%autoreload 2\n",
    "\n",
    "import sys\n",
    "\n",
    "sys.path.append('../../pyscan')\n",
    "\n",
    "import pyscan as ps\n",
    "import numpy as np"
   ]
  },
  {
   "cell_type": "code",
   "execution_count": 2,
   "metadata": {
    "tags": []
   },
   "outputs": [],
   "source": [
    "def generate_multiD_data(expt):\n",
    "    \"\"\"\n",
    "    Generates fake data proportinal to loopX.i\n",
    "    x1 - 0D data (point)\n",
    "    x2 - 1D data (line/array)\n",
    "    x3 - 2D data (2D array)\n",
    "    \"\"\"\n",
    "     \n",
    "    runinfo = expt.runinfo\n",
    "    devices = expt.devices\n",
    "\n",
    "    d = ps.ItemAttribute()\n",
    "\n",
    "    v = runinfo.loop0.i + runinfo.loop1.i*runinfo.loop0.n + \\\n",
    "           runinfo.loop2.i*runinfo.loop0.n*runinfo.loop1.n + \\\n",
    "           runinfo.loop3.i*runinfo.loop0.n*runinfo.loop1.n*runinfo.loop2.n\n",
    "    \n",
    "    d.x1 = v\n",
    "    d.x2 = [v for i in range(5)]\n",
    "    d.x3 = [[v for i in range(5)] for j in range(5)]\n",
    "    \n",
    "    return d"
   ]
  },
  {
   "cell_type": "code",
   "execution_count": 3,
   "metadata": {
    "tags": []
   },
   "outputs": [
    {
     "ename": "AttributeError",
     "evalue": "module 'pyscan' has no attribute 'PointByPointRaster'",
     "output_type": "error",
     "traceback": [
      "\u001b[0;31m---------------------------------------------------------------------------\u001b[0m",
      "\u001b[0;31mAttributeError\u001b[0m                            Traceback (most recent call last)",
      "Cell \u001b[0;32mIn[3], line 14\u001b[0m\n\u001b[1;32m     11\u001b[0m runinfo\u001b[38;5;241m.\u001b[39mmeasure_function \u001b[38;5;241m=\u001b[39m generate_multiD_data\n\u001b[1;32m     13\u001b[0m \u001b[38;5;66;03m# This is the only important difference\u001b[39;00m\n\u001b[0;32m---> 14\u001b[0m expt \u001b[38;5;241m=\u001b[39m ps\u001b[38;5;241m.\u001b[39mPointByPointRaster(runinfo, devices)\n\u001b[1;32m     15\u001b[0m expt\u001b[38;5;241m.\u001b[39mstart_thread()\n",
      "\u001b[0;31mAttributeError\u001b[0m: module 'pyscan' has no attribute 'PointByPointRaster'"
     ]
    }
   ],
   "source": [
    "# Setup as usual\n",
    "devices = ps.ItemAttribute()\n",
    "\n",
    "devices.v1 = ps.TestVoltage()\n",
    "devices.v2 = ps.TestVoltage()\n",
    "\n",
    "runinfo = ps.RunInfo()\n",
    "runinfo.loop0 = ps.PropertyScan({'v1': ps.drange(0, 0.1, 1)}, prop='voltage', dt=0.5)\n",
    "runinfo.loop1 = ps.PropertyScan({'v2': ps.drange(0, 0.1, 1)}, prop='voltage', dt=0.5)\n",
    "\n",
    "runinfo.measure_function = generate_multiD_data\n",
    "\n",
    "# This is the only important difference\n",
    "expt = ps.PointByPointRaster(runinfo, devices)\n",
    "expt.start_thread()\n"
   ]
  },
  {
   "cell_type": "code",
   "execution_count": 4,
   "metadata": {},
   "outputs": [
    {
     "data": {
      "image/png": "[encoded data removed]",
      "text/plain": [
       "<Figure size 432x288 with 1 Axes>"
      ]
     },
     "metadata": {
      "needs_background": "light"
     },
     "output_type": "display_data"
    }
   ],
   "source": [
    "ps.live_average_plot1D(expt)"
   ]
  },
  {
   "cell_type": "code",
   "execution_count": 5,
   "metadata": {},
   "outputs": [
    {
     "data": {
      "text/plain": [
       "False"
      ]
     },
     "execution_count": 5,
     "metadata": {},
     "output_type": "execute_result"
    }
   ],
   "source": [
    "expt.runinfo.running"
   ]
  },
  {
   "cell_type": "code",
   "execution_count": null,
   "metadata": {},
   "outputs": [],
   "source": []
  }
 ],
 "metadata": {
  "kernelspec": {
   "display_name": "pyscan",
   "language": "python",
   "name": "pyscan"
  },
  "language_info": {
   "codemirror_mode": {
    "name": "ipython",
    "version": 3
   },
   "file_extension": ".py",
   "mimetype": "text/x-python",
   "name": "python",
   "nbconvert_exporter": "python",
   "pygments_lexer": "ipython3",
   "version": "3.11.4"
  }
 },
 "nbformat": 4,
 "nbformat_minor": 4
}
