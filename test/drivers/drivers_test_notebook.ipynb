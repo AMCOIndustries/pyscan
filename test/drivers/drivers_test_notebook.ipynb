{
 "cells": [
  {
   "cell_type": "code",
   "execution_count": 7,
   "metadata": {},
   "outputs": [
    {
     "name": "stdout",
     "output_type": "stream",
     "text": [
      "The autoreload extension is already loaded. To reload it, use:\n",
      "  %reload_ext autoreload\n"
     ]
    }
   ],
   "source": [
    "%load_ext autoreload\n",
    "%autoreload 2\n",
    "\n",
    "import pyscan as ps\n",
    "import pytest\n",
    "from drivers_test_unit import test_driver"
   ]
  },
  {
   "cell_type": "code",
   "execution_count": 8,
   "metadata": {},
   "outputs": [],
   "source": [
    "try:\n",
    "    del srs830\n",
    "except: \n",
    "    pass\n",
    "\n",
    "srs830 = ps.Stanford830('GPIB0::5::INSTR')"
   ]
  },
  {
   "cell_type": "code",
   "execution_count": 15,
   "metadata": {},
   "outputs": [
    {
     "data": {
      "text/plain": [
       "'13'"
      ]
     },
     "execution_count": 15,
     "metadata": {},
     "output_type": "execute_result"
    }
   ],
   "source": [
    "srs830.query('OFLT?').strip(' \\n')"
   ]
  },
  {
   "cell_type": "code",
   "execution_count": 10,
   "metadata": {},
   "outputs": [
    {
     "name": "stdout",
     "output_type": "stream",
     "text": [
      "OFLT 10\n"
     ]
    }
   ],
   "source": [
    "srs830.time_constant = srs830._time_constant_settings['indexed_values'][10]"
   ]
  },
  {
   "cell_type": "code",
   "execution_count": 11,
   "metadata": {},
   "outputs": [
    {
     "data": {
      "text/plain": [
       "30"
      ]
     },
     "execution_count": 11,
     "metadata": {},
     "output_type": "execute_result"
    }
   ],
   "source": [
    "srs830.time_constant"
   ]
  },
  {
   "cell_type": "code",
   "execution_count": 12,
   "metadata": {},
   "outputs": [
    {
     "name": "stdout",
     "output_type": "stream",
     "text": [
      "Initial state for the Stanford830 was: [('phase', 180.0), ('reference_source', 'external'), ('frequency', 102000.0), ('reference_slope', 'sine zero'), ('harmonic', 1), ('instrument_amplitude', 5.0), ('input_configuration', 'Ie6'), ('input_ground', 'AC'), ('input_coupling', 'AC'), ('input_line_filter', 'none'), ('sensitivity', 2e-09), ('reserve_mode', 'high'), ('time_constant', 30), ('filter_slope', 6), ('synchronous_filter', 0), ('sample_rate', 0.0625), ('end_buffer_mode', 'one shot'), ('trigger_mode', 0)]\n",
      "Reset state for the Stanford830 was: [('phase', 180.0), ('reference_source', 'external'), ('frequency', 102000.0), ('reference_slope', 'sine zero'), ('harmonic', 1), ('instrument_amplitude', 5.0), ('input_configuration', 'Ie6'), ('input_ground', 'AC'), ('input_coupling', 'AC'), ('input_line_filter', 'none'), ('sensitivity', 2e-09), ('reserve_mode', 'high'), ('time_constant', 30), ('filter_slope', 6), ('synchronous_filter', 0), ('sample_rate', 0.0625), ('end_buffer_mode', 'one shot'), ('trigger_mode', 0)]\n",
      "Beginning tests for:  Stanford830\n",
      "FMOD 0\n",
      "FMOD 0\n",
      "FMOD 1\n",
      "FMOD 0\n",
      "RSLP 0\n",
      "RSLP 0\n",
      "RSLP 1\n",
      "RSLP 2\n",
      "RSLP 0\n",
      "IGND 0\n",
      "IGND 0\n",
      "IGND 1\n",
      "IGND 0\n",
      "ICPL 0\n",
      "ICPL 0\n",
      "ICPL 1\n",
      "ICPL 0\n",
      "ILIN 0\n",
      "ILIN 0\n",
      "ILIN 1\n",
      "ILIN 2\n",
      "ILIN 3\n",
      "ILIN 0\n",
      "SENS 0\n",
      "SENS 0\n",
      "SENS 1\n",
      "SENS 2\n",
      "SENS 3\n",
      "SENS 4\n",
      "SENS 5\n",
      "SENS 6\n",
      "SENS 7\n",
      "SENS 8\n",
      "SENS 9\n",
      "SENS 10\n",
      "SENS 11\n",
      "SENS 12\n",
      "SENS 13\n",
      "SENS 14\n",
      "SENS 15\n",
      "SENS 16\n",
      "SENS 17\n",
      "SENS 18\n",
      "SENS 19\n",
      "SENS 20\n",
      "SENS 21\n",
      "SENS 22\n",
      "SENS 23\n",
      "SENS 24\n",
      "SENS 25\n",
      "SENS 26\n",
      "SENS 0\n",
      "RMOD 0\n",
      "RMOD 0\n",
      "RMOD 1\n",
      "RMOD 2\n",
      "RMOD 0\n",
      "OFSL 0\n",
      "OFSL 0\n",
      "OFSL 1\n",
      "OFSL 2\n",
      "OFSL 3\n",
      "OFSL 0\n",
      "SRAT 0\n",
      "SRAT 0\n",
      "SRAT 1\n",
      "SRAT 2\n",
      "SRAT 3\n",
      "SRAT 4\n",
      "SRAT 5\n",
      "SRAT 6\n",
      "SRAT 7\n",
      "SRAT 8\n",
      "SRAT 9\n",
      "SRAT 10\n",
      "SRAT 11\n",
      "SRAT 12\n",
      "SRAT 13\n",
      "SRAT 14\n",
      "SRAT 0\n",
      "SEND 0\n",
      "SEND 0\n",
      "SEND 1\n",
      "SEND 0\n",
      "FMOD 0\n",
      "RSLP 0\n",
      "ISRC 2\n",
      "IGND 0\n",
      "ICPL 0\n",
      "ILIN 0\n",
      "SENS 0\n",
      "RMOD 0\n",
      "OFLT 13\n",
      "OFSL 0\n",
      "SRAT 0\n",
      "SEND 0\n",
      "4 range properties found and tested out of 18 total settings found.\n",
      "0 ranges properties found and tested out of 18 total settings found.\n",
      "0 values properties found and tested out of 18 total settings found.\n",
      "10 indexed values properties found and tested out of 18 total settings found.\n",
      "2 dict values properties found and tested out of 18 total settings found.\n",
      "2 blacklisted settings not testing (likely due to interdependencies not suitable for automated testing)\n",
      "16 properties tested out of 18 total settings.\n",
      "Settings restored to: [('phase', 180), ('reference_source', 0), ('frequency', 102000), ('reference_slope', 0), ('harmonic', 1), ('instrument_amplitude', 5), ('input_configuration', 2), ('input_ground', 0), ('input_coupling', 0), ('input_line_filter', 0), ('sensitivity', 0), ('reserve_mode', 0), ('time_constant', 13), ('filter_slope', 0), ('synchronous_filter', 0), ('sample_rate', 0), ('end_buffer_mode', 0), ('trigger_mode', 0)]\n",
      "Restored settings are different for the following:  [('reference_source', 'external'), ('reference_slope', 'sine zero'), ('input_configuration', 'Ie6'), ('input_ground', 'AC'), ('input_coupling', 'AC'), ('input_line_filter', 'none'), ('sensitivity', 2e-09), ('reserve_mode', 'high'), ('time_constant', 30), ('filter_slope', 6), ('sample_rate', 0.0625), ('end_buffer_mode', 'one shot')]\n",
      "Tests passed, instrument Stanford830 should be ready to go.\n"
     ]
    }
   ],
   "source": [
    "test_driver(srs830)"
   ]
  }
 ],
 "metadata": {
  "kernelspec": {
   "display_name": "rsbrostenv",
   "language": "python",
   "name": "python3"
  },
  "language_info": {
   "codemirror_mode": {
    "name": "ipython",
    "version": 3
   },
   "file_extension": ".py",
   "mimetype": "text/x-python",
   "name": "python",
   "nbconvert_exporter": "python",
   "pygments_lexer": "ipython3",
   "version": "3.12.2"
  },
  "orig_nbformat": 4
 },
 "nbformat": 4,
 "nbformat_minor": 2
}
