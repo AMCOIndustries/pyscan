{
 "cells": [
  {
   "cell_type": "code",
   "execution_count": 6,
   "metadata": {},
   "outputs": [
    {
     "name": "stdout",
     "output_type": "stream",
     "text": [
      "The autoreload extension is already loaded. To reload it, use:\n",
      "  %reload_ext autoreload\n"
     ]
    }
   ],
   "source": [
    "%load_ext autoreload\n",
    "%autoreload 2\n",
    "\n",
    "import pyscan as ps\n",
    "from drivers_test_unit import test_driver"
   ]
  },
  {
   "cell_type": "code",
   "execution_count": null,
   "metadata": {},
   "outputs": [],
   "source": [
    "from pyvisa import ResourceManager, VisaIOError"
   ]
  },
  {
   "cell_type": "code",
   "execution_count": null,
   "metadata": {},
   "outputs": [],
   "source": [
    "rm = ResourceManager()\n",
    "\n",
    "rs = rm.list_resources()\n",
    "# print(rs)\n",
    "for r in rs:\n",
    "    res = rm.open_resource(r)\n",
    "    try:       \n",
    "        print(r, res.query('*IDN?'))\n",
    "    except VisaIOError:\n",
    "        pass"
   ]
  },
  {
   "cell_type": "code",
   "execution_count": 7,
   "metadata": {},
   "outputs": [],
   "source": [
    "# Jasmine suggests that this may hide a bug in certain drivers where reassigning an instrument connection variable\n",
    "# will not close the previous connection. This may be an issue we need to test for so that reconnecting is reliable.\n",
    "# Drivers with this issue may need an additional clause \"__close__\" to resolve reconnecting issues.\n",
    "try:\n",
    "    del srs830\n",
    "except: \n",
    "    pass\n",
    "\n",
    "srs830 = ps.Stanford830('GPIB0::5::INSTR')"
   ]
  },
  {
   "cell_type": "code",
   "execution_count": null,
   "metadata": {},
   "outputs": [],
   "source": [
    "'''\n",
    "If a device is failing test cases for a particular property try the following solutions first:\n",
    "\n",
    "1. Make sure there are no typos, abnormalities, or other mismatches in formatting in the add_device_property section\n",
    "for the given property.\n",
    "\n",
    "2. If the instrument's documentation notes that property has dependencies, create a black_list_for_testing attribute\n",
    "of type list in the driver init and include the .\n",
    "For the Stanford830 it looks like this: self.black_list_for_testing = ['_input_configuration', \"_time_constant\"]\n",
    "\n",
    "3. Make sure that all the properties being added to the device are also updated\n",
    "For the Standford830 it operates like this: \n",
    "    def __init__(self, instrument)\n",
    "        self.initialize_properties()\n",
    "        self.update_properties()\n",
    "\n",
    "    def update_properties(self):\n",
    "        self.phase\n",
    "        self.*all other added properties*\n",
    "\n",
    "If properties are added but not updated in this way it will not pass the drivers test unit.\n",
    "\n",
    "These are the most common problems I encountered when testing for the Stanford830.    \n",
    "'''\n",
    "\n",
    "test_driver(srs830)"
   ]
  },
  {
   "cell_type": "code",
   "execution_count": null,
   "metadata": {},
   "outputs": [],
   "source": []
  }
 ],
 "metadata": {
  "kernelspec": {
   "display_name": "rsbrostenv",
   "language": "python",
   "name": "python3"
  },
  "language_info": {
   "codemirror_mode": {
    "name": "ipython",
    "version": 3
   },
   "file_extension": ".py",
   "mimetype": "text/x-python",
   "name": "python",
   "nbconvert_exporter": "python",
   "pygments_lexer": "ipython3",
   "version": "3.12.2"
  },
  "orig_nbformat": 4
 },
 "nbformat": 4,
 "nbformat_minor": 2
}
