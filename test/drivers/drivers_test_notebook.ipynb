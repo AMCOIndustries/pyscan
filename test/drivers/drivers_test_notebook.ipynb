{
 "cells": [
  {
   "cell_type": "code",
   "execution_count": 3,
   "metadata": {},
   "outputs": [
    {
     "name": "stdout",
     "output_type": "stream",
     "text": [
      "The autoreload extension is already loaded. To reload it, use:\n",
      "  %reload_ext autoreload\n"
     ]
    }
   ],
   "source": [
    "%load_ext autoreload\n",
    "%autoreload 2\n",
    "\n",
    "import pyscan as ps\n",
    "import pytest\n",
    "from drivers_test_unit import test_driver"
   ]
  },
  {
   "cell_type": "code",
   "execution_count": 4,
   "metadata": {},
   "outputs": [],
   "source": [
    "try:\n",
    "    del srs830\n",
    "except: \n",
    "    pass\n",
    "\n",
    "srs830 = ps.Stanford830('GPIB0::5::INSTR')"
   ]
  },
  {
   "cell_type": "code",
   "execution_count": 6,
   "metadata": {},
   "outputs": [
    {
     "data": {
      "text/plain": [
       "'ttl falling'"
      ]
     },
     "execution_count": 6,
     "metadata": {},
     "output_type": "execute_result"
    }
   ],
   "source": [
    "srs830.reference_slope"
   ]
  },
  {
   "cell_type": "code",
   "execution_count": 7,
   "metadata": {},
   "outputs": [
    {
     "data": {
      "text/plain": [
       "'ttl falling'"
      ]
     },
     "execution_count": 7,
     "metadata": {},
     "output_type": "execute_result"
    }
   ],
   "source": [
    "srs830._reference_slope"
   ]
  },
  {
   "cell_type": "code",
   "execution_count": null,
   "metadata": {},
   "outputs": [],
   "source": []
  },
  {
   "cell_type": "code",
   "execution_count": 11,
   "metadata": {},
   "outputs": [
    {
     "name": "stdout",
     "output_type": "stream",
     "text": [
      "INDEXED_VALUES 0\n",
      "INDEXED_VALUES 0\n",
      "INDEXED_VALUES 1\n",
      "INDEXED_VALUES 2\n",
      "INDEXED_VALUES 3\n",
      "INDEXED_VALUES 4\n",
      "INDEXED_VALUES 5\n",
      "INDEXED_VALUES 6\n",
      "INDEXED_VALUES 0\n"
     ]
    },
    {
     "ename": "RuntimeError",
     "evalue": "dictionary changed size during iteration",
     "output_type": "error",
     "traceback": [
      "\u001b[1;31m---------------------------------------------------------------------------\u001b[0m",
      "\u001b[1;31mRuntimeError\u001b[0m                              Traceback (most recent call last)",
      "Cell \u001b[1;32mIn[11], line 1\u001b[0m\n\u001b[1;32m----> 1\u001b[0m test_driver(srs830)\n",
      "File \u001b[1;32mc:\\Users\\rsbrost\\Documents\\pyscan\\test\\drivers\\drivers_test_unit.py:357\u001b[0m, in \u001b[0;36mtest_driver\u001b[1;34m(device, expected_attributes, expected_values)\u001b[0m\n\u001b[0;32m    354\u001b[0m     \u001b[39mif\u001b[39;00m expected_values \u001b[39mis\u001b[39;00m \u001b[39mnot\u001b[39;00m \u001b[39mNone\u001b[39;00m:\n\u001b[0;32m    355\u001b[0m         check_attribute_values(device, expected_attributes, expected_values)\n\u001b[1;32m--> 357\u001b[0m check_properties(device)\n\u001b[0;32m    359\u001b[0m \u001b[39mprint\u001b[39m(\u001b[39m\"\u001b[39m\u001b[39mTests passed, instrument \u001b[39m\u001b[39m{}\u001b[39;00m\u001b[39m should be ready to go.\u001b[39m\u001b[39m\"\u001b[39m\u001b[39m.\u001b[39mformat(device\u001b[39m.\u001b[39m\u001b[39m__class__\u001b[39m\u001b[39m.\u001b[39m\u001b[39m__name__\u001b[39m))\n",
      "File \u001b[1;32mc:\\Users\\rsbrost\\Documents\\pyscan\\test\\drivers\\drivers_test_unit.py:294\u001b[0m, in \u001b[0;36mcheck_properties\u001b[1;34m(test_instrument)\u001b[0m\n\u001b[0;32m    292\u001b[0m instrument_name \u001b[39m=\u001b[39m test_instrument\u001b[39m.\u001b[39m\u001b[39m__class__\u001b[39m\u001b[39m.\u001b[39m\u001b[39m__name__\u001b[39m\n\u001b[0;32m    293\u001b[0m \u001b[39m# values_idx, range_idx, ranges_idx, idx_vals_idx, dict_vals_idx = [], [], [], [], []\u001b[39;00m\n\u001b[1;32m--> 294\u001b[0m saved_settings \u001b[39m=\u001b[39m save_initial_state(test_instrument)\n\u001b[0;32m    295\u001b[0m \u001b[39mprint\u001b[39m(\u001b[39m\"\u001b[39m\u001b[39mInitial state for the \u001b[39m\u001b[39m{}\u001b[39;00m\u001b[39m was: \u001b[39m\u001b[39m{}\u001b[39;00m\u001b[39m\"\u001b[39m\u001b[39m.\u001b[39mformat(instrument_name, saved_settings))\n\u001b[0;32m    297\u001b[0m reset_device_properties(test_instrument)\n",
      "File \u001b[1;32mc:\\Users\\rsbrost\\Documents\\pyscan\\test\\drivers\\drivers_test_unit.py:19\u001b[0m, in \u001b[0;36msave_initial_state\u001b[1;34m(device)\u001b[0m\n\u001b[0;32m     17\u001b[0m \u001b[39mdef\u001b[39;00m \u001b[39msave_initial_state\u001b[39m(device):\n\u001b[0;32m     18\u001b[0m     saved_settings \u001b[39m=\u001b[39m []\n\u001b[1;32m---> 19\u001b[0m     \u001b[39mfor\u001b[39;49;00m attribute_name \u001b[39min\u001b[39;49;00m device\u001b[39m.\u001b[39;49m\u001b[39m__dict__\u001b[39;49m\u001b[39m.\u001b[39;49mkeys():\n\u001b[0;32m     20\u001b[0m         \u001b[39mif\u001b[39;49;00m \u001b[39m\"\u001b[39;49m\u001b[39m_settings\u001b[39;49m\u001b[39m\"\u001b[39;49m \u001b[39min\u001b[39;49;00m attribute_name:\n\u001b[0;32m     21\u001b[0m             \u001b[39mtry\u001b[39;49;00m:\n",
      "\u001b[1;31mRuntimeError\u001b[0m: dictionary changed size during iteration"
     ]
    }
   ],
   "source": [
    "test_driver(srs830)"
   ]
  }
 ],
 "metadata": {
  "kernelspec": {
   "display_name": "rsbrostenv",
   "language": "python",
   "name": "python3"
  },
  "language_info": {
   "codemirror_mode": {
    "name": "ipython",
    "version": 3
   },
   "file_extension": ".py",
   "mimetype": "text/x-python",
   "name": "python",
   "nbconvert_exporter": "python",
   "pygments_lexer": "ipython3",
   "version": "3.12.2"
  },
  "orig_nbformat": 4
 },
 "nbformat": 4,
 "nbformat_minor": 2
}
