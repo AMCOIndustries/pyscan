{
 "cells": [
  {
   "cell_type": "code",
   "execution_count": 1,
   "metadata": {},
   "outputs": [
    {
     "name": "stdout",
     "output_type": "stream",
     "text": [
      "Could not load Keysight SD1\n",
      "Could not load Keysight SD1\n",
      "pylablib not found, AttocubeANC350 not loaded\n",
      "Basler Camera software not found, BaserCamera not loaded\n",
      "Helios Camera not installed\n",
      "msl not installed, Thorlabs BSC203 driver not loaded\n",
      "seabreeze module not found, Ocean Optics not imported\n",
      "Failed to load spinapi library.\n",
      "spinapi is not installed, PulseBlaster driver not loaded.\n",
      "Thorlabs Kinesis not found, ThorlabsBSC203 not loaded\n",
      "Thorlabs Kinesis not found, ThorlabsBPC303 not loaded\n",
      "Thorlabs Kinesis not found, ThorlabsMFF101 not loaded\n"
     ]
    }
   ],
   "source": [
    "%load_ext autoreload\n",
    "%autoreload 2\n",
    "\n",
    "import pyscan as ps\n",
    "import pytest\n",
    "from drivers_test_unit import test_driver"
   ]
  },
  {
   "cell_type": "code",
   "execution_count": 2,
   "metadata": {},
   "outputs": [
    {
     "name": "stdout",
     "output_type": "stream",
     "text": [
      "SENS 0\n"
     ]
    }
   ],
   "source": [
    "try:\n",
    "    del srs830\n",
    "except: \n",
    "    pass\n",
    "\n",
    "srs830 = ps.Stanford830('GPIB0::5::INSTR')"
   ]
  },
  {
   "cell_type": "code",
   "execution_count": 4,
   "metadata": {},
   "outputs": [
    {
     "data": {
      "text/plain": [
       "30"
      ]
     },
     "execution_count": 4,
     "metadata": {},
     "output_type": "execute_result"
    }
   ],
   "source": [
    "srs830.time_constant"
   ]
  },
  {
   "cell_type": "code",
   "execution_count": 5,
   "metadata": {},
   "outputs": [
    {
     "name": "stdout",
     "output_type": "stream",
     "text": [
      "OFLT 14\n"
     ]
    }
   ],
   "source": [
    "srs830.time_constant = 100"
   ]
  },
  {
   "cell_type": "code",
   "execution_count": 6,
   "metadata": {},
   "outputs": [
    {
     "data": {
      "text/plain": [
       "30"
      ]
     },
     "execution_count": 6,
     "metadata": {},
     "output_type": "execute_result"
    }
   ],
   "source": [
    "srs830.time_constant"
   ]
  },
  {
   "cell_type": "code",
   "execution_count": 3,
   "metadata": {},
   "outputs": [
    {
     "name": "stdout",
     "output_type": "stream",
     "text": [
      "Beginning tests for:  Stanford830\n",
      "external 0 reference_source internal\n",
      "FMOD 0\n",
      "underscore property is:  external\n",
      "internal 1 reference_source external\n",
      "FMOD 1\n",
      "underscore property is:  internal\n",
      "sine zero 0 reference_slope ttl falling\n",
      "RSLP 0\n",
      "underscore property is:  sine zero\n",
      "ttl rising 1 reference_slope sine zero\n",
      "RSLP 1\n",
      "underscore property is:  ttl rising\n",
      "ttl falling 2 reference_slope ttl rising\n",
      "RSLP 2\n",
      "underscore property is:  ttl falling\n",
      "A 0 input_configuration Ie8\n",
      "ISRC 0\n",
      "underscore property is:  A\n",
      "A-B 1 input_configuration A\n",
      "ISRC 1\n",
      "underscore property is:  A-B\n",
      "Ie6 2 input_configuration A-B\n",
      "ISRC 2\n",
      "underscore property is:  Ie6\n",
      "Ie8 3 input_configuration Ie6\n",
      "ISRC 3\n",
      "underscore property is:  Ie8\n",
      "AC 0 input_ground DC\n",
      "IGND 0\n",
      "underscore property is:  AC\n",
      "DC 1 input_ground AC\n",
      "IGND 1\n",
      "underscore property is:  DC\n",
      "AC 0 input_coupling DC\n",
      "ICPL 0\n",
      "underscore property is:  AC\n",
      "DC 1 input_coupling AC\n",
      "ICPL 1\n",
      "underscore property is:  DC\n",
      "none 0 input_line_filter both\n",
      "ILIN 0\n",
      "underscore property is:  none\n",
      "line 1 input_line_filter none\n",
      "ILIN 1\n",
      "underscore property is:  line\n",
      "2xline 2 input_line_filter line\n",
      "ILIN 2\n",
      "underscore property is:  2xline\n",
      "both 3 input_line_filter 2xline\n",
      "ILIN 3\n",
      "underscore property is:  both\n",
      "2e-09 0 sensitivity 2e-09\n",
      "SENS 0\n",
      "underscore property is:  2e-09\n",
      "5e-09 1 sensitivity 2e-09\n",
      "SENS 1\n",
      "underscore property is:  5e-09\n",
      "1e-08 2 sensitivity 5e-09\n",
      "SENS 2\n",
      "underscore property is:  1e-08\n",
      "2e-08 3 sensitivity 1e-08\n",
      "SENS 3\n",
      "underscore property is:  2e-08\n",
      "5e-08 4 sensitivity 2e-08\n",
      "SENS 4\n",
      "underscore property is:  5e-08\n",
      "1e-07 5 sensitivity 5e-08\n",
      "SENS 5\n",
      "underscore property is:  1e-07\n",
      "2e-07 6 sensitivity 1e-07\n",
      "SENS 6\n",
      "underscore property is:  2e-07\n",
      "5e-07 7 sensitivity 2e-07\n",
      "SENS 7\n",
      "underscore property is:  5e-07\n",
      "1e-06 8 sensitivity 5e-07\n",
      "SENS 8\n",
      "underscore property is:  1e-06\n",
      "2e-06 9 sensitivity 1e-06\n",
      "SENS 9\n",
      "underscore property is:  2e-06\n",
      "5e-06 10 sensitivity 2e-06\n",
      "SENS 10\n",
      "underscore property is:  5e-06\n",
      "1e-05 11 sensitivity 5e-06\n",
      "SENS 11\n",
      "underscore property is:  1e-05\n",
      "2e-05 12 sensitivity 1e-05\n",
      "SENS 12\n",
      "underscore property is:  2e-05\n",
      "5e-05 13 sensitivity 2e-05\n",
      "SENS 13\n",
      "underscore property is:  5e-05\n",
      "0.0001 14 sensitivity 5e-05\n",
      "SENS 14\n",
      "underscore property is:  0.0001\n",
      "0.0002 15 sensitivity 0.0001\n",
      "SENS 15\n",
      "underscore property is:  0.0002\n",
      "0.0005 16 sensitivity 0.0002\n",
      "SENS 16\n",
      "underscore property is:  0.0005\n",
      "0.001 17 sensitivity 0.0005\n",
      "SENS 17\n",
      "underscore property is:  0.001\n",
      "0.002 18 sensitivity 0.001\n",
      "SENS 18\n",
      "underscore property is:  0.002\n",
      "0.005 19 sensitivity 0.002\n",
      "SENS 19\n",
      "underscore property is:  0.005\n",
      "0.01 20 sensitivity 0.005\n",
      "SENS 20\n",
      "underscore property is:  0.01\n",
      "0.02 21 sensitivity 0.01\n",
      "SENS 21\n",
      "underscore property is:  0.02\n",
      "0.05 22 sensitivity 0.02\n",
      "SENS 22\n",
      "underscore property is:  0.05\n",
      "0.1 23 sensitivity 0.05\n",
      "SENS 23\n",
      "underscore property is:  0.1\n",
      "0.2 24 sensitivity 0.1\n",
      "SENS 24\n",
      "underscore property is:  0.2\n",
      "0.5 25 sensitivity 0.2\n",
      "SENS 25\n",
      "underscore property is:  0.5\n",
      "1 26 sensitivity 0.5\n",
      "SENS 26\n",
      "underscore property is:  1\n",
      "high 0 reserve_mode low\n",
      "RMOD 0\n",
      "underscore property is:  high\n",
      "normal 1 reserve_mode high\n",
      "RMOD 1\n",
      "underscore property is:  normal\n",
      "low 2 reserve_mode normal\n",
      "RMOD 2\n",
      "underscore property is:  low\n",
      "1e-05 0 time_constant 30\n",
      "OFLT 0\n",
      "underscore property is:  1e-05\n",
      "3e-05 1 time_constant 1e-05\n",
      "OFLT 1\n",
      "underscore property is:  3e-05\n",
      "0.0001 2 time_constant 3e-05\n",
      "OFLT 2\n",
      "underscore property is:  0.0001\n",
      "0.0003 3 time_constant 0.0001\n",
      "OFLT 3\n",
      "underscore property is:  0.0003\n",
      "0.001 4 time_constant 0.0003\n",
      "OFLT 4\n",
      "underscore property is:  0.001\n",
      "0.003 5 time_constant 0.001\n",
      "OFLT 5\n",
      "underscore property is:  0.003\n",
      "0.01 6 time_constant 0.003\n",
      "OFLT 6\n",
      "underscore property is:  0.01\n",
      "0.03 7 time_constant 0.01\n",
      "OFLT 7\n",
      "underscore property is:  0.03\n",
      "0.1 8 time_constant 0.03\n",
      "OFLT 8\n",
      "underscore property is:  0.1\n",
      "0.3 9 time_constant 0.1\n",
      "OFLT 9\n",
      "underscore property is:  0.3\n",
      "1 10 time_constant 0.3\n",
      "OFLT 10\n",
      "underscore property is:  1\n",
      "3 11 time_constant 1\n",
      "OFLT 11\n",
      "underscore property is:  3\n",
      "10 12 time_constant 3\n",
      "OFLT 12\n",
      "underscore property is:  10\n",
      "30 13 time_constant 10\n",
      "OFLT 13\n",
      "underscore property is:  30\n",
      "100 14 time_constant 30\n",
      "OFLT 14\n",
      "underscore property is:  100\n"
     ]
    },
    {
     "ename": "AssertionError",
     "evalue": "query returns: 13\n is not the idx: 14 for: _time_constant_settings",
     "output_type": "error",
     "traceback": [
      "\u001b[1;31m---------------------------------------------------------------------------\u001b[0m",
      "\u001b[1;31mAssertionError\u001b[0m                            Traceback (most recent call last)",
      "Cell \u001b[1;32mIn[3], line 1\u001b[0m\n\u001b[1;32m----> 1\u001b[0m test_driver(srs830)\n",
      "File \u001b[1;32mc:\\Users\\rsbrost\\Documents\\pyscan\\test\\drivers\\drivers_test_unit.py:255\u001b[0m, in \u001b[0;36mtest_driver\u001b[1;34m(device, expected_attributes, expected_values)\u001b[0m\n\u001b[0;32m    252\u001b[0m     \u001b[39mif\u001b[39;00m expected_values \u001b[39mis\u001b[39;00m \u001b[39mnot\u001b[39;00m \u001b[39mNone\u001b[39;00m:\n\u001b[0;32m    253\u001b[0m         check_attribute_values(device, expected_attributes, expected_values)\n\u001b[1;32m--> 255\u001b[0m check_properties(device)\n\u001b[0;32m    257\u001b[0m \u001b[39mprint\u001b[39m(\u001b[39m\"\u001b[39m\u001b[39mTests passed, instrument \u001b[39m\u001b[39m{}\u001b[39;00m\u001b[39m should be ready to go.\u001b[39m\u001b[39m\"\u001b[39m\u001b[39m.\u001b[39mformat(device\u001b[39m.\u001b[39m\u001b[39m__class__\u001b[39m\u001b[39m.\u001b[39m\u001b[39m__name__\u001b[39m))\n",
      "File \u001b[1;32mc:\\Users\\rsbrost\\Documents\\pyscan\\test\\drivers\\drivers_test_unit.py:227\u001b[0m, in \u001b[0;36mcheck_properties\u001b[1;34m(test_instrument)\u001b[0m\n\u001b[0;32m    225\u001b[0m     idx_vals_counter \u001b[39m+\u001b[39m\u001b[39m=\u001b[39m \u001b[39m1\u001b[39m\n\u001b[0;32m    226\u001b[0m     \u001b[39m# idx_vals_idx.append(idx_vals_counter)\u001b[39;00m\n\u001b[1;32m--> 227\u001b[0m     check_indexed_property(test_instrument, name)\n\u001b[0;32m    228\u001b[0m \u001b[39melif\u001b[39;00m \u001b[39m'\u001b[39m\u001b[39mdict_values\u001b[39m\u001b[39m'\u001b[39m \u001b[39min\u001b[39;00m test_instrument[name]\u001b[39m.\u001b[39mkeys():\n\u001b[0;32m    229\u001b[0m     dict_vals_counter \u001b[39m+\u001b[39m\u001b[39m=\u001b[39m \u001b[39m1\u001b[39m\n",
      "File \u001b[1;32mc:\\Users\\rsbrost\\Documents\\pyscan\\test\\drivers\\drivers_test_unit.py:177\u001b[0m, in \u001b[0;36mcheck_indexed_property\u001b[1;34m(device, key)\u001b[0m\n\u001b[0;32m    175\u001b[0m err_string \u001b[39m=\u001b[39m \u001b[39m\"\u001b[39m\u001b[39mquery returns: \u001b[39m\u001b[39m{}\u001b[39;00m\u001b[39m is not the idx: \u001b[39m\u001b[39m{}\u001b[39;00m\u001b[39m for: \u001b[39m\u001b[39m{}\u001b[39;00m\u001b[39m\"\u001b[39m\u001b[39m.\u001b[39mformat(device\u001b[39m.\u001b[39mquery(query_string), \u001b[39mstr\u001b[39m(idx), key)\n\u001b[0;32m    176\u001b[0m \u001b[39m# ######## not testing for now because was returning machine value instead of user value\u001b[39;00m\n\u001b[1;32m--> 177\u001b[0m \u001b[39massert\u001b[39;00m device\u001b[39m.\u001b[39mquery(query_string)\u001b[39m.\u001b[39mstrip(\u001b[39m'\u001b[39m\u001b[39m\\n\u001b[39;00m\u001b[39m'\u001b[39m) \u001b[39m==\u001b[39m \u001b[39mstr\u001b[39m(idx), err_string\n",
      "\u001b[1;31mAssertionError\u001b[0m: query returns: 13\n is not the idx: 14 for: _time_constant_settings"
     ]
    }
   ],
   "source": [
    "test_driver(srs830)"
   ]
  }
 ],
 "metadata": {
  "kernelspec": {
   "display_name": "rsbrostenv",
   "language": "python",
   "name": "python3"
  },
  "language_info": {
   "codemirror_mode": {
    "name": "ipython",
    "version": 3
   },
   "file_extension": ".py",
   "mimetype": "text/x-python",
   "name": "python",
   "nbconvert_exporter": "python",
   "pygments_lexer": "ipython3",
   "version": "3.12.2"
  },
  "orig_nbformat": 4
 },
 "nbformat": 4,
 "nbformat_minor": 2
}
