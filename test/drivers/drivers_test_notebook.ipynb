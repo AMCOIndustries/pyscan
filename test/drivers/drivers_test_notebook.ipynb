{
 "cells": [
  {
   "cell_type": "code",
   "execution_count": 1,
   "metadata": {},
   "outputs": [
    {
     "name": "stdout",
     "output_type": "stream",
     "text": [
      "Could not load Keysight SD1\n",
      "Could not load Keysight SD1\n",
      "pylablib not found, AttocubeANC350 not loaded\n",
      "Basler Camera software not found, BaserCamera not loaded\n",
      "Helios Camera not installed\n",
      "msl not installed, Thorlabs BSC203 driver not loaded\n",
      "seabreeze module not found, Ocean Optics not imported\n",
      "Failed to load spinapi library.\n",
      "spinapi is not installed, PulseBlaster driver not loaded.\n",
      "Thorlabs Kinesis not found, ThorlabsBSC203 not loaded\n",
      "Thorlabs Kinesis not found, ThorlabsBPC303 not loaded\n",
      "Thorlabs Kinesis not found, ThorlabsMFF101 not loaded\n"
     ]
    }
   ],
   "source": [
    "%load_ext autoreload\n",
    "%autoreload 2\n",
    "\n",
    "import pyscan as ps\n",
    "import pytest\n",
    "from drivers_test_unit import test_driver"
   ]
  },
  {
   "cell_type": "code",
   "execution_count": 2,
   "metadata": {},
   "outputs": [
    {
     "name": "stdout",
     "output_type": "stream",
     "text": [
      "SENS 0\n"
     ]
    }
   ],
   "source": [
    "try:\n",
    "    del srs830\n",
    "except: \n",
    "    pass\n",
    "\n",
    "srs830 = ps.Stanford830('GPIB0::5::INSTR')"
   ]
  },
  {
   "cell_type": "code",
   "execution_count": 10,
   "metadata": {},
   "outputs": [
    {
     "data": {
      "text/plain": [
       "0.0"
      ]
     },
     "execution_count": 10,
     "metadata": {},
     "output_type": "execute_result"
    }
   ],
   "source": [
    "srs830._phase"
   ]
  },
  {
   "cell_type": "code",
   "execution_count": 5,
   "metadata": {},
   "outputs": [
    {
     "name": "stdout",
     "output_type": "stream",
     "text": [
      "OFLT 14\n"
     ]
    }
   ],
   "source": [
    "srs830.time_constant = 100"
   ]
  },
  {
   "cell_type": "code",
   "execution_count": 6,
   "metadata": {},
   "outputs": [
    {
     "data": {
      "text/plain": [
       "30"
      ]
     },
     "execution_count": 6,
     "metadata": {},
     "output_type": "execute_result"
    }
   ],
   "source": [
    "srs830.time_constant"
   ]
  },
  {
   "cell_type": "code",
   "execution_count": 24,
   "metadata": {},
   "outputs": [
    {
     "name": "stdout",
     "output_type": "stream",
     "text": [
      "Initial state for the Stanford830 is: [('_phase', 0.0), ('_reference_source', 'internal'), ('_frequency', 102000.0), ('_reference_slope', 'ttl falling'), ('_harmonic', 1), ('_instrument_amplitude', 5.0), ('_input_configuration', 'Ie8'), ('_input_ground', 'DC'), ('_input_coupling', 'DC'), ('_input_line_filter', 'both'), ('_sensitivity', 1), ('_reserve_mode', 'low'), ('_time_constant', 30), ('_filter_slope', 12), ('_synchronous_filter', 'off'), ('_sample_rate', 1), ('_end_buffer_mode', 'one shot'), ('_trigger_mode', 'off')]\n",
      "Beginning tests for:  Stanford830\n"
     ]
    },
    {
     "ename": "Failed",
     "evalue": "DID NOT RAISE <class 'Exception'>",
     "output_type": "error",
     "traceback": [
      "\u001b[1;31m---------------------------------------------------------------------------\u001b[0m",
      "\u001b[1;31mFailed\u001b[0m                                    Traceback (most recent call last)",
      "Cell \u001b[1;32mIn[24], line 1\u001b[0m\n\u001b[1;32m----> 1\u001b[0m test_driver(srs830)\n",
      "File \u001b[1;32mc:\\Users\\rsbrost\\Documents\\pyscan\\test\\drivers\\drivers_test_unit.py:269\u001b[0m, in \u001b[0;36mtest_driver\u001b[1;34m(device, expected_attributes, expected_values)\u001b[0m\n\u001b[0;32m    266\u001b[0m     \u001b[39mif\u001b[39;00m expected_values \u001b[39mis\u001b[39;00m \u001b[39mnot\u001b[39;00m \u001b[39mNone\u001b[39;00m:\n\u001b[0;32m    267\u001b[0m         check_attribute_values(device, expected_attributes, expected_values)\n\u001b[1;32m--> 269\u001b[0m check_properties(device)\n\u001b[0;32m    271\u001b[0m \u001b[39mprint\u001b[39m(\u001b[39m\"\u001b[39m\u001b[39mTests passed, instrument \u001b[39m\u001b[39m{}\u001b[39;00m\u001b[39m should be ready to go.\u001b[39m\u001b[39m\"\u001b[39m\u001b[39m.\u001b[39mformat(device\u001b[39m.\u001b[39m\u001b[39m__class__\u001b[39m\u001b[39m.\u001b[39m\u001b[39m__name__\u001b[39m))\n",
      "File \u001b[1;32mc:\\Users\\rsbrost\\Documents\\pyscan\\test\\drivers\\drivers_test_unit.py:233\u001b[0m, in \u001b[0;36mcheck_properties\u001b[1;34m(test_instrument)\u001b[0m\n\u001b[0;32m    231\u001b[0m     range_counter \u001b[39m+\u001b[39m\u001b[39m=\u001b[39m \u001b[39m1\u001b[39m\n\u001b[0;32m    232\u001b[0m     \u001b[39m# range_idx.append(range_counter)\u001b[39;00m\n\u001b[1;32m--> 233\u001b[0m     check_range_property(test_instrument, name)\n\u001b[0;32m    234\u001b[0m \u001b[39melif\u001b[39;00m \u001b[39m'\u001b[39m\u001b[39mranges\u001b[39m\u001b[39m'\u001b[39m \u001b[39min\u001b[39;00m test_instrument[name]\u001b[39m.\u001b[39mkeys():\n\u001b[0;32m    235\u001b[0m     ranges_counter \u001b[39m+\u001b[39m\u001b[39m=\u001b[39m \u001b[39m1\u001b[39m\n",
      "File \u001b[1;32mc:\\Users\\rsbrost\\Documents\\pyscan\\test\\drivers\\drivers_test_unit.py:63\u001b[0m, in \u001b[0;36mcheck_range_property\u001b[1;34m(device, key)\u001b[0m\n\u001b[0;32m     61\u001b[0m max_range \u001b[39m=\u001b[39m \u001b[39mmax\u001b[39m(device[key][\u001b[39m'\u001b[39m\u001b[39mrange\u001b[39m\u001b[39m'\u001b[39m])\n\u001b[0;32m     62\u001b[0m name \u001b[39m=\u001b[39m device[key][\u001b[39m'\u001b[39m\u001b[39mname\u001b[39m\u001b[39m'\u001b[39m]\n\u001b[1;32m---> 63\u001b[0m \u001b[39mwith\u001b[39;49;00m pytest\u001b[39m.\u001b[39;49mraises(\u001b[39mException\u001b[39;49;00m):\n\u001b[0;32m     64\u001b[0m     device[name] \u001b[39m=\u001b[39;49m min_range \u001b[39m-\u001b[39;49m \u001b[39m.001\u001b[39;49m\n\u001b[0;32m     65\u001b[0m \u001b[39mwith\u001b[39;00m pytest\u001b[39m.\u001b[39mraises(\u001b[39mException\u001b[39;00m):\n",
      "    \u001b[1;31m[... skipping hidden 1 frame]\u001b[0m\n",
      "File \u001b[1;32mc:\\Users\\rsbrost\\.conda\\envs\\rsbrostenv\\Lib\\site-packages\\_pytest\\outcomes.py:166\u001b[0m, in \u001b[0;36mfail\u001b[1;34m(reason, pytrace)\u001b[0m\n\u001b[0;32m    156\u001b[0m \u001b[39m\u001b[39m\u001b[39m\"\"\"Explicitly fail an executing test with the given message.\u001b[39;00m\n\u001b[0;32m    157\u001b[0m \n\u001b[0;32m    158\u001b[0m \u001b[39m:param reason:\u001b[39;00m\n\u001b[1;32m   (...)\u001b[0m\n\u001b[0;32m    163\u001b[0m \u001b[39m    python traceback will be reported.\u001b[39;00m\n\u001b[0;32m    164\u001b[0m \u001b[39m\"\"\"\u001b[39;00m\n\u001b[0;32m    165\u001b[0m __tracebackhide__ \u001b[39m=\u001b[39m \u001b[39mTrue\u001b[39;00m\n\u001b[1;32m--> 166\u001b[0m \u001b[39mraise\u001b[39;00m Failed(msg\u001b[39m=\u001b[39mreason, pytrace\u001b[39m=\u001b[39mpytrace)\n",
      "\u001b[1;31mFailed\u001b[0m: DID NOT RAISE <class 'Exception'>"
     ]
    }
   ],
   "source": [
    "test_driver(srs830)"
   ]
  }
 ],
 "metadata": {
  "kernelspec": {
   "display_name": "rsbrostenv",
   "language": "python",
   "name": "python3"
  },
  "language_info": {
   "codemirror_mode": {
    "name": "ipython",
    "version": 3
   },
   "file_extension": ".py",
   "mimetype": "text/x-python",
   "name": "python",
   "nbconvert_exporter": "python",
   "pygments_lexer": "ipython3",
   "version": "3.12.2"
  },
  "orig_nbformat": 4
 },
 "nbformat": 4,
 "nbformat_minor": 2
}
